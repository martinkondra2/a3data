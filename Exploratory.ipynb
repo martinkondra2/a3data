{
 "cells": [
  {
   "cell_type": "code",
   "execution_count": null,
   "id": "fb13cc2c",
   "metadata": {},
   "outputs": [],
   "source": [
    "import pandas as pd\n",
    "import matplotlib.pyplot as plt\n",
    "import plotly.express as px\n",
    "import plotly.io as pio"
   ]
  },
  {
   "cell_type": "markdown",
   "id": "f6a80b6d",
   "metadata": {},
   "source": [
    "# Carga de dados e preprocesamento"
   ]
  },
  {
   "cell_type": "code",
   "execution_count": null,
   "id": "ad0d9111",
   "metadata": {},
   "outputs": [],
   "source": [
    "data = pd.read_csv('books_data.csv')\n",
    "data.head()"
   ]
  },
  {
   "cell_type": "code",
   "execution_count": null,
   "id": "cd4a5f66",
   "metadata": {},
   "outputs": [],
   "source": [
    "# Check data types of the columns\n",
    "data.dtypes"
   ]
  },
  {
   "cell_type": "code",
   "execution_count": null,
   "id": "6246515c",
   "metadata": {},
   "outputs": [],
   "source": [
    "# Count NaNs per column\n",
    "missing_percent = (data.isnull().sum() / len(data)) * 100\n",
    "missing_percent"
   ]
  },
  {
   "cell_type": "code",
   "execution_count": null,
   "id": "80855ccd",
   "metadata": {},
   "outputs": [],
   "source": [
    "ratings = pd.read_csv('Books_rating.csv')\n",
    "print(len(ratings))\n",
    "ratings.head()"
   ]
  },
  {
   "cell_type": "code",
   "execution_count": null,
   "id": "4ebabdf1",
   "metadata": {},
   "outputs": [],
   "source": [
    "# Check data types of the columns\n",
    "ratings.dtypes"
   ]
  },
  {
   "cell_type": "code",
   "execution_count": null,
   "id": "b1ef8171",
   "metadata": {},
   "outputs": [],
   "source": [
    "# Count NaNs per column\n",
    "missing_percent = (ratings.isnull().sum() / len(ratings)) * 100\n",
    "missing_percent"
   ]
  },
  {
   "cell_type": "code",
   "execution_count": null,
   "id": "4d559f3c",
   "metadata": {},
   "outputs": [],
   "source": [
    "# Merge both dataset based on shared \"Title\" column\n",
    "df = pd.merge(data,ratings, on = 'Title')\n",
    "df.shape"
   ]
  },
  {
   "cell_type": "code",
   "execution_count": null,
   "id": "0b6d22ba",
   "metadata": {},
   "outputs": [],
   "source": [
    "# Drop duplicates\n",
    "df.drop_duplicates(inplace = True)\n",
    "df.shape"
   ]
  },
  {
   "cell_type": "code",
   "execution_count": null,
   "id": "36ccbbcd",
   "metadata": {},
   "outputs": [],
   "source": [
    "df.head()"
   ]
  },
  {
   "cell_type": "code",
   "execution_count": null,
   "id": "b3dc380d",
   "metadata": {},
   "outputs": [],
   "source": [
    "# Change time from unix to datetime format\n",
    "df['time'] = pd.to_datetime(df['time'], unit='s')\n",
    "df['time'] = df['time'].dt.strftime('%Y-%m-%d %H:%M:%S')"
   ]
  },
  {
   "cell_type": "code",
   "execution_count": null,
   "id": "f7f3652e",
   "metadata": {},
   "outputs": [],
   "source": [
    "# Fix encoding issue\n",
    "df['summary'].fillna(value=\"\", inplace=True)\n",
    "df[df['summary'].str.contains(\"quot\")][:2]"
   ]
  },
  {
   "cell_type": "code",
   "execution_count": null,
   "id": "06f1b390",
   "metadata": {},
   "outputs": [],
   "source": [
    "df['summary'].replace('&quot;', '\"', inplace=True)\n",
    "df['text'].replace('&quot;', '\"', inplace=True)"
   ]
  },
  {
   "cell_type": "markdown",
   "id": "698dd1cf",
   "metadata": {},
   "source": [
    "# Analisis exploratorio\n",
    "\n",
    "## Distribucao dos scores"
   ]
  },
  {
   "cell_type": "code",
   "execution_count": null,
   "id": "5c285c44",
   "metadata": {},
   "outputs": [],
   "source": [
    "fig = px.histogram(df, x=\"score\", nbins=5, title=\"Distribucao dos scores dos livros\")\n",
    "fig.update_xaxes(title=\"Score\")\n",
    "fig.update_yaxes(title=\"Cantidad\")\n",
    "fig.show()"
   ]
  },
  {
   "cell_type": "markdown",
   "id": "c12b36be",
   "metadata": {},
   "source": [
    "## Cantidad de reviews y promedio de score por usuario"
   ]
  },
  {
   "cell_type": "code",
   "execution_count": null,
   "id": "449e70f6",
   "metadata": {},
   "outputs": [],
   "source": [
    "user_stats = df.groupby('User_id').agg({'Title': 'count', 'score': 'mean'})\n",
    "user_stats = user_stats.rename(columns={'Title': 'num_reviews', 'score': 'mean_rating'})\n",
    "\n",
    "fig = px.scatter(user_stats, x='num_reviews', y='mean_rating', \n",
    "                 hover_name=user_stats.index, title='User Stats')\n",
    "fig.show()"
   ]
  },
  {
   "cell_type": "markdown",
   "id": "d2fe736d",
   "metadata": {},
   "source": [
    "## Clasificacao de usuarios: uma proposta"
   ]
  },
  {
   "cell_type": "code",
   "execution_count": null,
   "id": "b780498a",
   "metadata": {},
   "outputs": [],
   "source": [
    "interesting_users = user_stats.query('num_reviews > 50 and 2 < mean_rating < 4')\n",
    "interesting_users.index.unique()"
   ]
  },
  {
   "cell_type": "code",
   "execution_count": null,
   "id": "f47b5428",
   "metadata": {},
   "outputs": [],
   "source": [
    "haters = user_stats.query('num_reviews > 10 and mean_rating < 2.5')\n",
    "haters"
   ]
  },
  {
   "cell_type": "code",
   "execution_count": null,
   "id": "39604ce9",
   "metadata": {},
   "outputs": [],
   "source": [
    "lovers = user_stats.query('num_reviews > 50 and mean_rating > 4.5')\n",
    "lovers"
   ]
  },
  {
   "cell_type": "markdown",
   "id": "6cae1628",
   "metadata": {},
   "source": [
    "## Autores com melhores e peores scores"
   ]
  },
  {
   "cell_type": "code",
   "execution_count": null,
   "id": "280885a4",
   "metadata": {},
   "outputs": [],
   "source": [
    "# Grouping the data by authors and calculating the mean review score for each author\n",
    "mask = df.groupby('authors').count()['Title'] > 1000\n",
    "average_scores_by_author = df.groupby('authors')['score'].mean().loc[mask]\n",
    "\n",
    "top_authors = average_scores_by_author.sort_values(ascending=False).head(10)[::-1]\n",
    "top_authors.plot(kind='barh', figsize=(7, 7))\n",
    "plt.title('Top 10 Autores')\n",
    "plt.xlabel('Avg score')\n",
    "plt.ylabel('Autores')\n",
    "plt.show()"
   ]
  },
  {
   "cell_type": "code",
   "execution_count": null,
   "id": "281a9d12",
   "metadata": {},
   "outputs": [],
   "source": [
    "bottom_10_authors = average_scores_by_author.sort_values(ascending=True).head(10)[::-1]\n",
    "bottom_10_authors.plot(kind='barh', figsize=(7,7))\n",
    "plt.title('Top 10 Autores (lowest scores)', fontsize=15)\n",
    "plt.xlabel('Average Ratings')\n",
    "plt.ylabel('Autores')\n",
    "ax = plt.gca()\n",
    "ax.set_xlim([0, 5])\n",
    "plt.show()"
   ]
  },
  {
   "cell_type": "markdown",
   "id": "282c2c7c",
   "metadata": {},
   "source": [
    "## Performance por género"
   ]
  },
  {
   "cell_type": "code",
   "execution_count": null,
   "id": "e88badbf",
   "metadata": {},
   "outputs": [],
   "source": [
    "numeric_data = df.dropna(subset=['score'])\n",
    "mask = numeric_data.groupby('categories')['score'].count()\n",
    "avg_cat_rating = numeric_data.groupby('categories')['score'].mean().loc[mask > 200]\n",
    "\n",
    "top = avg_cat_rating.sort_values(ascending=False).head(10)[::-1]\n",
    "bottom = avg_cat_rating.sort_values(ascending=True).head(10)\n",
    "\n",
    "# Plot the bar chart for top and bottom categories\n",
    "plt.figure(figsize=(10, 10))\n",
    "\n",
    "plt.barh(bottom.index, bottom, color='red', label='Piores 10')\n",
    "plt.barh(top.index, top, color='blue', label='Melhores 10')\n",
    "\n",
    "plt.title('Gêneros melhores e piores rankeados', fontsize=15)\n",
    "plt.xlabel('Score')\n",
    "plt.legend()\n",
    "plt.show()"
   ]
  },
  {
   "cell_type": "markdown",
   "id": "fed5227d",
   "metadata": {},
   "source": [
    "## Performance por editora"
   ]
  },
  {
   "cell_type": "code",
   "execution_count": null,
   "id": "bec5be7c",
   "metadata": {},
   "outputs": [],
   "source": [
    "# TODO"
   ]
  },
  {
   "cell_type": "markdown",
   "id": "4150aeab",
   "metadata": {},
   "source": [
    "# Dataset para tarefas de NLP"
   ]
  },
  {
   "cell_type": "code",
   "execution_count": null,
   "id": "ef44ecec",
   "metadata": {},
   "outputs": [],
   "source": [
    "# Dataset for NLP related task\n",
    "df['all'] = df['summary'] + '\\n' + df['text']\n",
    "nlp = df[['all', 'score']]\n",
    "nlp.head()\n",
    "nlp = nlp.sample(frac=0.01)"
   ]
  },
  {
   "cell_type": "code",
   "execution_count": null,
   "id": "18b6753e",
   "metadata": {},
   "outputs": [],
   "source": [
    "nlp.to_csv('book_texts.csv')"
   ]
  },
  {
   "cell_type": "code",
   "execution_count": null,
   "id": "741135a2",
   "metadata": {},
   "outputs": [],
   "source": [
    "nlp.head()"
   ]
  }
 ],
 "metadata": {
  "kernelspec": {
   "display_name": "quark310",
   "language": "python",
   "name": "quark310"
  },
  "language_info": {
   "codemirror_mode": {
    "name": "ipython",
    "version": 3
   },
   "file_extension": ".py",
   "mimetype": "text/x-python",
   "name": "python",
   "nbconvert_exporter": "python",
   "pygments_lexer": "ipython3",
   "version": "3.10.12"
  }
 },
 "nbformat": 4,
 "nbformat_minor": 5
}
